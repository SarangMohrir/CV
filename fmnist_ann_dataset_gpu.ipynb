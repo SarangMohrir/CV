{
  "nbformat": 4,
  "nbformat_minor": 0,
  "metadata": {
    "colab": {
      "provenance": [],
      "gpuType": "T4",
      "authorship_tag": "ABX9TyOVEv+dHLP5aVPjoeXRIWiH",
      "include_colab_link": true
    },
    "kernelspec": {
      "name": "python3",
      "display_name": "Python 3"
    },
    "language_info": {
      "name": "python"
    },
    "accelerator": "GPU"
  },
  "cells": [
    {
      "cell_type": "markdown",
      "metadata": {
        "id": "view-in-github",
        "colab_type": "text"
      },
      "source": [
        "<a href=\"https://colab.research.google.com/github/SarangMohrir/CV/blob/main/fmnist_ann_dataset_gpu.ipynb\" target=\"_parent\"><img src=\"https://colab.research.google.com/assets/colab-badge.svg\" alt=\"Open In Colab\"/></a>"
      ]
    },
    {
      "cell_type": "code",
      "execution_count": 29,
      "metadata": {
        "id": "1ekBCp9XEomQ"
      },
      "outputs": [],
      "source": [
        "import pandas as pd\n",
        "import numpy as np\n",
        "from sklearn.model_selection import train_test_split\n",
        "import torch\n",
        "from torch.utils.data import Dataset, DataLoader\n",
        "import torch.nn as nn\n",
        "import torch.optim as optim\n",
        "import matplotlib.pyplot as plt"
      ]
    },
    {
      "cell_type": "code",
      "source": [
        "torch.manual_seed(42)"
      ],
      "metadata": {
        "colab": {
          "base_uri": "https://localhost:8080/"
        },
        "id": "GAbV7KK6E7oN",
        "outputId": "6209898e-aa33-4979-f35f-7c3e9bb63ed5"
      },
      "execution_count": 30,
      "outputs": [
        {
          "output_type": "execute_result",
          "data": {
            "text/plain": [
              "<torch._C.Generator at 0x7c7e0880d490>"
            ]
          },
          "metadata": {},
          "execution_count": 30
        }
      ]
    },
    {
      "cell_type": "code",
      "source": [
        "df = pd.read_csv(\"/content/fashion-mnist_train.csv\")"
      ],
      "metadata": {
        "id": "Zk4FMOFfFWmv"
      },
      "execution_count": 31,
      "outputs": []
    },
    {
      "cell_type": "code",
      "source": [
        "# Check for GPU\n",
        "device = torch.device('cuda' if torch.cuda.is_available() else 'cpu')\n",
        "print(f\"Using device: {device}\")"
      ],
      "metadata": {
        "colab": {
          "base_uri": "https://localhost:8080/"
        },
        "id": "qfylR5sIFdJ1",
        "outputId": "8ee65681-3d67-4134-ef1a-b6da1bba74d6"
      },
      "execution_count": 32,
      "outputs": [
        {
          "output_type": "stream",
          "name": "stdout",
          "text": [
            "Using device: cuda\n"
          ]
        }
      ]
    },
    {
      "cell_type": "code",
      "source": [
        "df.head()"
      ],
      "metadata": {
        "colab": {
          "base_uri": "https://localhost:8080/",
          "height": 256
        },
        "id": "RvSE8jUTFwvj",
        "outputId": "1e160ef9-1db5-4a48-e713-f4780c8a40dd"
      },
      "execution_count": 33,
      "outputs": [
        {
          "output_type": "execute_result",
          "data": {
            "text/plain": [
              "   label  pixel1  pixel2  pixel3  pixel4  pixel5  pixel6  pixel7  pixel8  \\\n",
              "0      2       0       0       0       0       0       0       0       0   \n",
              "1      9       0       0       0       0       0       0       0       0   \n",
              "2      6       0       0       0       0       0       0       0       5   \n",
              "3      0       0       0       0       1       2       0       0       0   \n",
              "4      3       0       0       0       0       0       0       0       0   \n",
              "\n",
              "   pixel9  ...  pixel775  pixel776  pixel777  pixel778  pixel779  pixel780  \\\n",
              "0       0  ...         0         0         0         0         0         0   \n",
              "1       0  ...         0         0         0         0         0         0   \n",
              "2       0  ...         0         0         0        30        43         0   \n",
              "3       0  ...         3         0         0         0         0         1   \n",
              "4       0  ...         0         0         0         0         0         0   \n",
              "\n",
              "   pixel781  pixel782  pixel783  pixel784  \n",
              "0         0         0         0         0  \n",
              "1         0         0         0         0  \n",
              "2         0         0         0         0  \n",
              "3         0         0         0         0  \n",
              "4         0         0         0         0  \n",
              "\n",
              "[5 rows x 785 columns]"
            ],
            "text/html": [
              "\n",
              "  <div id=\"df-4eb765f7-51b7-4290-94cb-7d6e3a545c3d\" class=\"colab-df-container\">\n",
              "    <div>\n",
              "<style scoped>\n",
              "    .dataframe tbody tr th:only-of-type {\n",
              "        vertical-align: middle;\n",
              "    }\n",
              "\n",
              "    .dataframe tbody tr th {\n",
              "        vertical-align: top;\n",
              "    }\n",
              "\n",
              "    .dataframe thead th {\n",
              "        text-align: right;\n",
              "    }\n",
              "</style>\n",
              "<table border=\"1\" class=\"dataframe\">\n",
              "  <thead>\n",
              "    <tr style=\"text-align: right;\">\n",
              "      <th></th>\n",
              "      <th>label</th>\n",
              "      <th>pixel1</th>\n",
              "      <th>pixel2</th>\n",
              "      <th>pixel3</th>\n",
              "      <th>pixel4</th>\n",
              "      <th>pixel5</th>\n",
              "      <th>pixel6</th>\n",
              "      <th>pixel7</th>\n",
              "      <th>pixel8</th>\n",
              "      <th>pixel9</th>\n",
              "      <th>...</th>\n",
              "      <th>pixel775</th>\n",
              "      <th>pixel776</th>\n",
              "      <th>pixel777</th>\n",
              "      <th>pixel778</th>\n",
              "      <th>pixel779</th>\n",
              "      <th>pixel780</th>\n",
              "      <th>pixel781</th>\n",
              "      <th>pixel782</th>\n",
              "      <th>pixel783</th>\n",
              "      <th>pixel784</th>\n",
              "    </tr>\n",
              "  </thead>\n",
              "  <tbody>\n",
              "    <tr>\n",
              "      <th>0</th>\n",
              "      <td>2</td>\n",
              "      <td>0</td>\n",
              "      <td>0</td>\n",
              "      <td>0</td>\n",
              "      <td>0</td>\n",
              "      <td>0</td>\n",
              "      <td>0</td>\n",
              "      <td>0</td>\n",
              "      <td>0</td>\n",
              "      <td>0</td>\n",
              "      <td>...</td>\n",
              "      <td>0</td>\n",
              "      <td>0</td>\n",
              "      <td>0</td>\n",
              "      <td>0</td>\n",
              "      <td>0</td>\n",
              "      <td>0</td>\n",
              "      <td>0</td>\n",
              "      <td>0</td>\n",
              "      <td>0</td>\n",
              "      <td>0</td>\n",
              "    </tr>\n",
              "    <tr>\n",
              "      <th>1</th>\n",
              "      <td>9</td>\n",
              "      <td>0</td>\n",
              "      <td>0</td>\n",
              "      <td>0</td>\n",
              "      <td>0</td>\n",
              "      <td>0</td>\n",
              "      <td>0</td>\n",
              "      <td>0</td>\n",
              "      <td>0</td>\n",
              "      <td>0</td>\n",
              "      <td>...</td>\n",
              "      <td>0</td>\n",
              "      <td>0</td>\n",
              "      <td>0</td>\n",
              "      <td>0</td>\n",
              "      <td>0</td>\n",
              "      <td>0</td>\n",
              "      <td>0</td>\n",
              "      <td>0</td>\n",
              "      <td>0</td>\n",
              "      <td>0</td>\n",
              "    </tr>\n",
              "    <tr>\n",
              "      <th>2</th>\n",
              "      <td>6</td>\n",
              "      <td>0</td>\n",
              "      <td>0</td>\n",
              "      <td>0</td>\n",
              "      <td>0</td>\n",
              "      <td>0</td>\n",
              "      <td>0</td>\n",
              "      <td>0</td>\n",
              "      <td>5</td>\n",
              "      <td>0</td>\n",
              "      <td>...</td>\n",
              "      <td>0</td>\n",
              "      <td>0</td>\n",
              "      <td>0</td>\n",
              "      <td>30</td>\n",
              "      <td>43</td>\n",
              "      <td>0</td>\n",
              "      <td>0</td>\n",
              "      <td>0</td>\n",
              "      <td>0</td>\n",
              "      <td>0</td>\n",
              "    </tr>\n",
              "    <tr>\n",
              "      <th>3</th>\n",
              "      <td>0</td>\n",
              "      <td>0</td>\n",
              "      <td>0</td>\n",
              "      <td>0</td>\n",
              "      <td>1</td>\n",
              "      <td>2</td>\n",
              "      <td>0</td>\n",
              "      <td>0</td>\n",
              "      <td>0</td>\n",
              "      <td>0</td>\n",
              "      <td>...</td>\n",
              "      <td>3</td>\n",
              "      <td>0</td>\n",
              "      <td>0</td>\n",
              "      <td>0</td>\n",
              "      <td>0</td>\n",
              "      <td>1</td>\n",
              "      <td>0</td>\n",
              "      <td>0</td>\n",
              "      <td>0</td>\n",
              "      <td>0</td>\n",
              "    </tr>\n",
              "    <tr>\n",
              "      <th>4</th>\n",
              "      <td>3</td>\n",
              "      <td>0</td>\n",
              "      <td>0</td>\n",
              "      <td>0</td>\n",
              "      <td>0</td>\n",
              "      <td>0</td>\n",
              "      <td>0</td>\n",
              "      <td>0</td>\n",
              "      <td>0</td>\n",
              "      <td>0</td>\n",
              "      <td>...</td>\n",
              "      <td>0</td>\n",
              "      <td>0</td>\n",
              "      <td>0</td>\n",
              "      <td>0</td>\n",
              "      <td>0</td>\n",
              "      <td>0</td>\n",
              "      <td>0</td>\n",
              "      <td>0</td>\n",
              "      <td>0</td>\n",
              "      <td>0</td>\n",
              "    </tr>\n",
              "  </tbody>\n",
              "</table>\n",
              "<p>5 rows × 785 columns</p>\n",
              "</div>\n",
              "    <div class=\"colab-df-buttons\">\n",
              "\n",
              "  <div class=\"colab-df-container\">\n",
              "    <button class=\"colab-df-convert\" onclick=\"convertToInteractive('df-4eb765f7-51b7-4290-94cb-7d6e3a545c3d')\"\n",
              "            title=\"Convert this dataframe to an interactive table.\"\n",
              "            style=\"display:none;\">\n",
              "\n",
              "  <svg xmlns=\"http://www.w3.org/2000/svg\" height=\"24px\" viewBox=\"0 -960 960 960\">\n",
              "    <path d=\"M120-120v-720h720v720H120Zm60-500h600v-160H180v160Zm220 220h160v-160H400v160Zm0 220h160v-160H400v160ZM180-400h160v-160H180v160Zm440 0h160v-160H620v160ZM180-180h160v-160H180v160Zm440 0h160v-160H620v160Z\"/>\n",
              "  </svg>\n",
              "    </button>\n",
              "\n",
              "  <style>\n",
              "    .colab-df-container {\n",
              "      display:flex;\n",
              "      gap: 12px;\n",
              "    }\n",
              "\n",
              "    .colab-df-convert {\n",
              "      background-color: #E8F0FE;\n",
              "      border: none;\n",
              "      border-radius: 50%;\n",
              "      cursor: pointer;\n",
              "      display: none;\n",
              "      fill: #1967D2;\n",
              "      height: 32px;\n",
              "      padding: 0 0 0 0;\n",
              "      width: 32px;\n",
              "    }\n",
              "\n",
              "    .colab-df-convert:hover {\n",
              "      background-color: #E2EBFA;\n",
              "      box-shadow: 0px 1px 2px rgba(60, 64, 67, 0.3), 0px 1px 3px 1px rgba(60, 64, 67, 0.15);\n",
              "      fill: #174EA6;\n",
              "    }\n",
              "\n",
              "    .colab-df-buttons div {\n",
              "      margin-bottom: 4px;\n",
              "    }\n",
              "\n",
              "    [theme=dark] .colab-df-convert {\n",
              "      background-color: #3B4455;\n",
              "      fill: #D2E3FC;\n",
              "    }\n",
              "\n",
              "    [theme=dark] .colab-df-convert:hover {\n",
              "      background-color: #434B5C;\n",
              "      box-shadow: 0px 1px 3px 1px rgba(0, 0, 0, 0.15);\n",
              "      filter: drop-shadow(0px 1px 2px rgba(0, 0, 0, 0.3));\n",
              "      fill: #FFFFFF;\n",
              "    }\n",
              "  </style>\n",
              "\n",
              "    <script>\n",
              "      const buttonEl =\n",
              "        document.querySelector('#df-4eb765f7-51b7-4290-94cb-7d6e3a545c3d button.colab-df-convert');\n",
              "      buttonEl.style.display =\n",
              "        google.colab.kernel.accessAllowed ? 'block' : 'none';\n",
              "\n",
              "      async function convertToInteractive(key) {\n",
              "        const element = document.querySelector('#df-4eb765f7-51b7-4290-94cb-7d6e3a545c3d');\n",
              "        const dataTable =\n",
              "          await google.colab.kernel.invokeFunction('convertToInteractive',\n",
              "                                                    [key], {});\n",
              "        if (!dataTable) return;\n",
              "\n",
              "        const docLinkHtml = 'Like what you see? Visit the ' +\n",
              "          '<a target=\"_blank\" href=https://colab.research.google.com/notebooks/data_table.ipynb>data table notebook</a>'\n",
              "          + ' to learn more about interactive tables.';\n",
              "        element.innerHTML = '';\n",
              "        dataTable['output_type'] = 'display_data';\n",
              "        await google.colab.output.renderOutput(dataTable, element);\n",
              "        const docLink = document.createElement('div');\n",
              "        docLink.innerHTML = docLinkHtml;\n",
              "        element.appendChild(docLink);\n",
              "      }\n",
              "    </script>\n",
              "  </div>\n",
              "\n",
              "\n",
              "    <div id=\"df-c7d8c715-959e-4a7e-9e3a-73f25260161c\">\n",
              "      <button class=\"colab-df-quickchart\" onclick=\"quickchart('df-c7d8c715-959e-4a7e-9e3a-73f25260161c')\"\n",
              "                title=\"Suggest charts\"\n",
              "                style=\"display:none;\">\n",
              "\n",
              "<svg xmlns=\"http://www.w3.org/2000/svg\" height=\"24px\"viewBox=\"0 0 24 24\"\n",
              "     width=\"24px\">\n",
              "    <g>\n",
              "        <path d=\"M19 3H5c-1.1 0-2 .9-2 2v14c0 1.1.9 2 2 2h14c1.1 0 2-.9 2-2V5c0-1.1-.9-2-2-2zM9 17H7v-7h2v7zm4 0h-2V7h2v10zm4 0h-2v-4h2v4z\"/>\n",
              "    </g>\n",
              "</svg>\n",
              "      </button>\n",
              "\n",
              "<style>\n",
              "  .colab-df-quickchart {\n",
              "      --bg-color: #E8F0FE;\n",
              "      --fill-color: #1967D2;\n",
              "      --hover-bg-color: #E2EBFA;\n",
              "      --hover-fill-color: #174EA6;\n",
              "      --disabled-fill-color: #AAA;\n",
              "      --disabled-bg-color: #DDD;\n",
              "  }\n",
              "\n",
              "  [theme=dark] .colab-df-quickchart {\n",
              "      --bg-color: #3B4455;\n",
              "      --fill-color: #D2E3FC;\n",
              "      --hover-bg-color: #434B5C;\n",
              "      --hover-fill-color: #FFFFFF;\n",
              "      --disabled-bg-color: #3B4455;\n",
              "      --disabled-fill-color: #666;\n",
              "  }\n",
              "\n",
              "  .colab-df-quickchart {\n",
              "    background-color: var(--bg-color);\n",
              "    border: none;\n",
              "    border-radius: 50%;\n",
              "    cursor: pointer;\n",
              "    display: none;\n",
              "    fill: var(--fill-color);\n",
              "    height: 32px;\n",
              "    padding: 0;\n",
              "    width: 32px;\n",
              "  }\n",
              "\n",
              "  .colab-df-quickchart:hover {\n",
              "    background-color: var(--hover-bg-color);\n",
              "    box-shadow: 0 1px 2px rgba(60, 64, 67, 0.3), 0 1px 3px 1px rgba(60, 64, 67, 0.15);\n",
              "    fill: var(--button-hover-fill-color);\n",
              "  }\n",
              "\n",
              "  .colab-df-quickchart-complete:disabled,\n",
              "  .colab-df-quickchart-complete:disabled:hover {\n",
              "    background-color: var(--disabled-bg-color);\n",
              "    fill: var(--disabled-fill-color);\n",
              "    box-shadow: none;\n",
              "  }\n",
              "\n",
              "  .colab-df-spinner {\n",
              "    border: 2px solid var(--fill-color);\n",
              "    border-color: transparent;\n",
              "    border-bottom-color: var(--fill-color);\n",
              "    animation:\n",
              "      spin 1s steps(1) infinite;\n",
              "  }\n",
              "\n",
              "  @keyframes spin {\n",
              "    0% {\n",
              "      border-color: transparent;\n",
              "      border-bottom-color: var(--fill-color);\n",
              "      border-left-color: var(--fill-color);\n",
              "    }\n",
              "    20% {\n",
              "      border-color: transparent;\n",
              "      border-left-color: var(--fill-color);\n",
              "      border-top-color: var(--fill-color);\n",
              "    }\n",
              "    30% {\n",
              "      border-color: transparent;\n",
              "      border-left-color: var(--fill-color);\n",
              "      border-top-color: var(--fill-color);\n",
              "      border-right-color: var(--fill-color);\n",
              "    }\n",
              "    40% {\n",
              "      border-color: transparent;\n",
              "      border-right-color: var(--fill-color);\n",
              "      border-top-color: var(--fill-color);\n",
              "    }\n",
              "    60% {\n",
              "      border-color: transparent;\n",
              "      border-right-color: var(--fill-color);\n",
              "    }\n",
              "    80% {\n",
              "      border-color: transparent;\n",
              "      border-right-color: var(--fill-color);\n",
              "      border-bottom-color: var(--fill-color);\n",
              "    }\n",
              "    90% {\n",
              "      border-color: transparent;\n",
              "      border-bottom-color: var(--fill-color);\n",
              "    }\n",
              "  }\n",
              "</style>\n",
              "\n",
              "      <script>\n",
              "        async function quickchart(key) {\n",
              "          const quickchartButtonEl =\n",
              "            document.querySelector('#' + key + ' button');\n",
              "          quickchartButtonEl.disabled = true;  // To prevent multiple clicks.\n",
              "          quickchartButtonEl.classList.add('colab-df-spinner');\n",
              "          try {\n",
              "            const charts = await google.colab.kernel.invokeFunction(\n",
              "                'suggestCharts', [key], {});\n",
              "          } catch (error) {\n",
              "            console.error('Error during call to suggestCharts:', error);\n",
              "          }\n",
              "          quickchartButtonEl.classList.remove('colab-df-spinner');\n",
              "          quickchartButtonEl.classList.add('colab-df-quickchart-complete');\n",
              "        }\n",
              "        (() => {\n",
              "          let quickchartButtonEl =\n",
              "            document.querySelector('#df-c7d8c715-959e-4a7e-9e3a-73f25260161c button');\n",
              "          quickchartButtonEl.style.display =\n",
              "            google.colab.kernel.accessAllowed ? 'block' : 'none';\n",
              "        })();\n",
              "      </script>\n",
              "    </div>\n",
              "\n",
              "    </div>\n",
              "  </div>\n"
            ],
            "application/vnd.google.colaboratory.intrinsic+json": {
              "type": "dataframe",
              "variable_name": "df"
            }
          },
          "metadata": {},
          "execution_count": 33
        }
      ]
    },
    {
      "cell_type": "code",
      "metadata": {
        "colab": {
          "base_uri": "https://localhost:8080/",
          "height": 806
        },
        "id": "250a9295",
        "outputId": "21bb5be4-2751-43a7-c2e2-005392da70b4"
      },
      "source": [
        "import matplotlib.pyplot as plt\n",
        "\n",
        "# Get the first 16 rows (images) from the dataframe\n",
        "grid_images = df.head(16)\n",
        "\n",
        "# Create a figure and subplots for the grid\n",
        "fig, axes = plt.subplots(4, 4, figsize=(8, 8))\n",
        "axes = axes.ravel() # Flatten the 2D array of axes\n",
        "\n",
        "# Iterate through the rows and display each image in a subplot\n",
        "for i, (index, row) in enumerate(grid_images.iterrows()):\n",
        "    image_data = row[1:].values.astype('uint8')  # Exclude the 'label' column\n",
        "    image = image_data.reshape(28, 28)\n",
        "\n",
        "    axes[i].imshow(image, cmap='viridis') # Changed colormap to viridis\n",
        "    axes[i].set_title(f'Label: {row.iloc[0]}') # Use .iloc for accessing the label by position\n",
        "    axes[i].axis('off') # Hide axes\n",
        "\n",
        "plt.tight_layout() # Adjust layout to prevent overlapping titles\n",
        "plt.show()"
      ],
      "execution_count": 34,
      "outputs": [
        {
          "output_type": "display_data",
          "data": {
            "text/plain": [
              "<Figure size 800x800 with 16 Axes>"
            ],
            "image/png": "[encoded data removed]"
          },
          "metadata": {}
        }
      ]
    },
    {
      "cell_type": "code",
      "source": [
        "# train test split\n",
        "\n",
        "X = df.iloc[:, 1:].values\n",
        "y = df.iloc[:, 0].values"
      ],
      "metadata": {
        "id": "kL_Z1JNmGtVC"
      },
      "execution_count": 35,
      "outputs": []
    },
    {
      "cell_type": "code",
      "source": [
        "x_train, x_test, y_train, y_test = train_test_split(X, y, test_size=0.2, random_state=42)"
      ],
      "metadata": {
        "id": "MpA9_ErCHsHM"
      },
      "execution_count": 36,
      "outputs": []
    },
    {
      "cell_type": "code",
      "source": [
        "#while training neural network always have them in range of [0, 1]\n",
        "X_train = x_train / 255.0\n",
        "X_test = x_test / 255.0"
      ],
      "metadata": {
        "id": "zN-IPRMVHyPp"
      },
      "execution_count": 37,
      "outputs": []
    },
    {
      "cell_type": "code",
      "source": [
        "class customDataset(Dataset):\n",
        "  def __init__(self, features, labels) -> None:\n",
        "     super().__init__()\n",
        "     self.features = torch.tensor(features, dtype=torch.float32)\n",
        "     self.labels = torch.tensor(labels, dtype=torch.long)\n",
        "\n",
        "  def __len__(self):\n",
        "    return len(self.features)\n",
        "\n",
        "  def __getitem__(self, idx):\n",
        "    return self.features[idx], self.labels[idx]\n"
      ],
      "metadata": {
        "id": "vXSq5NODIByL"
      },
      "execution_count": 38,
      "outputs": []
    },
    {
      "cell_type": "code",
      "source": [
        "trainDataset = customDataset(X_train, y_train)"
      ],
      "metadata": {
        "id": "em67mO-uJp3f"
      },
      "execution_count": 39,
      "outputs": []
    },
    {
      "cell_type": "code",
      "source": [
        "trainDataset[0]"
      ],
      "metadata": {
        "colab": {
          "base_uri": "https://localhost:8080/"
        },
        "id": "ncc443hhKIDH",
        "outputId": "3381c533-a916-4e3a-8917-2d9666936ccf"
      },
      "execution_count": 40,
      "outputs": [
        {
          "output_type": "execute_result",
          "data": {
            "text/plain": [
              "(tensor([0.0000, 0.0000, 0.0000, 0.0000, 0.0000, 0.0000, 0.0000, 0.0000, 0.0000,\n",
              "         0.0000, 0.0000, 0.0000, 0.0000, 0.0000, 0.0000, 0.0000, 0.0000, 0.0000,\n",
              "         0.0000, 0.0000, 0.0000, 0.0000, 0.0000, 0.0000, 0.0000, 0.0000, 0.0000,\n",
              "         0.0000, 0.0000, 0.0000, 0.0000, 0.0000, 0.0000, 0.0000, 0.0000, 0.0000,\n",
              "         0.0000, 0.0000, 0.0000, 0.0000, 0.0000, 0.0000, 0.0000, 0.0000, 0.0000,\n",
              "         0.0000, 0.0000, 0.0000, 0.0000, 0.0000, 0.0000, 0.0000, 0.0000, 0.0000,\n",
              "         0.0000, 0.0000, 0.0000, 0.0000, 0.0000, 0.0000, 0.0000, 0.0000, 0.0000,\n",
              "         0.0000, 0.0000, 0.0000, 0.0000, 0.0000, 0.0000, 0.0000, 0.0000, 0.0000,\n",
              "         0.0000, 0.0000, 0.0000, 0.0000, 0.0000, 0.0000, 0.0000, 0.0000, 0.0000,\n",
              "         0.0000, 0.0000, 0.0000, 0.0000, 0.0000, 0.0000, 0.0000, 0.0000, 0.0000,\n",
              "         0.0000, 0.0000, 0.0000, 0.0000, 0.0000, 0.0000, 0.0000, 0.0000, 0.0000,\n",
              "         0.0000, 0.0000, 0.0000, 0.0000, 0.0000, 0.0000, 0.0000, 0.0000, 0.2275,\n",
              "         0.5333, 0.0000, 0.0000, 0.0000, 0.0000, 0.0000, 0.0000, 0.0000, 0.0000,\n",
              "         0.0000, 0.0000, 0.0000, 0.0000, 0.0078, 0.0078, 0.0275, 0.0078, 0.0000,\n",
              "         0.0000, 0.0000, 0.0000, 0.0000, 0.0000, 0.0275, 0.2157, 0.3137, 0.4235,\n",
              "         0.5922, 1.0000, 0.0000, 0.0000, 0.0000, 0.0000, 0.0000, 0.0000, 0.0000,\n",
              "         0.0000, 0.0000, 0.0000, 0.0000, 0.0000, 0.0078, 0.0078, 0.0196, 0.0000,\n",
              "         0.0078, 0.0078, 0.0471, 0.2863, 0.4039, 0.5137, 0.5608, 0.5608, 0.6902,\n",
              "         0.6314, 0.3333, 0.3843, 0.0980, 0.0000, 0.0000, 0.0000, 0.0000, 0.0000,\n",
              "         0.0000, 0.0000, 0.0000, 0.0000, 0.0000, 0.0000, 0.0000, 0.0078, 0.0000,\n",
              "         0.0588, 0.4235, 0.5216, 0.5608, 0.7412, 0.7686, 0.7686, 0.7020, 0.4431,\n",
              "         0.3059, 0.1255, 0.0000, 0.2078, 0.4431, 0.0000, 0.0000, 0.0000, 0.0000,\n",
              "         0.0000, 0.0000, 0.0000, 0.0000, 0.0000, 0.0000, 0.0000, 0.0000, 0.0196,\n",
              "         0.0000, 0.0471, 0.1843, 0.1569, 0.1843, 0.0588, 0.0000, 0.0000, 0.0784,\n",
              "         0.0000, 0.0000, 0.0000, 0.0000, 0.0078, 0.7608, 0.2157, 0.0000, 0.0000,\n",
              "         0.0000, 0.0000, 0.0000, 0.0000, 0.0000, 0.0000, 0.0000, 0.0000, 0.0000,\n",
              "         0.0078, 0.0275, 0.0000, 0.0000, 0.0000, 0.0000, 0.0000, 0.0000, 0.0000,\n",
              "         0.0000, 0.0000, 0.0000, 0.0078, 0.0000, 0.0078, 0.7882, 0.6314, 0.0000,\n",
              "         0.0000, 0.0000, 0.0000, 0.0000, 0.0000, 0.0000, 0.0000, 0.0000, 0.0000,\n",
              "         0.0000, 0.0000, 0.0078, 0.0000, 0.0000, 0.0078, 0.0078, 0.0196, 0.0000,\n",
              "         0.0000, 0.0000, 0.0078, 0.0078, 0.0000, 0.0000, 0.1059, 0.8000, 0.6510,\n",
              "         0.0588, 0.0000, 0.0000, 0.0000, 0.0000, 0.0000, 0.0000, 0.0000, 0.0000,\n",
              "         0.0000, 0.0078, 0.0078, 0.0000, 0.0196, 0.0078, 0.0000, 0.0000, 0.0000,\n",
              "         0.0000, 0.0078, 0.0000, 0.0000, 0.0000, 0.0000, 0.0000, 0.3922, 0.8196,\n",
              "         0.5804, 0.1373, 0.0000, 0.0000, 0.0000, 0.0000, 0.0000, 0.0000, 0.0000,\n",
              "         0.0000, 0.0000, 0.0078, 0.0196, 0.0000, 0.0000, 0.0000, 0.0000, 0.0000,\n",
              "         0.0000, 0.0000, 0.0196, 0.0078, 0.0000, 0.0078, 0.0000, 0.0000, 0.6706,\n",
              "         0.8902, 0.1961, 0.1647, 0.0000, 0.0000, 0.0000, 0.0000, 0.0000, 0.0000,\n",
              "         0.0000, 0.0000, 0.0000, 0.0000, 0.0000, 0.0000, 0.0000, 0.0000, 0.0000,\n",
              "         0.0000, 0.0000, 0.0000, 0.0000, 0.0000, 0.0000, 0.0000, 0.0000, 0.0980,\n",
              "         0.9765, 0.5137, 0.1765, 0.3137, 0.0000, 0.0000, 0.0000, 0.0000, 0.0000,\n",
              "         0.0000, 0.0000, 0.0000, 0.0000, 0.0000, 0.0000, 0.0000, 0.0000, 0.0000,\n",
              "         0.0000, 0.0000, 0.0000, 0.0000, 0.0000, 0.0000, 0.0000, 0.0000, 0.0667,\n",
              "         0.2667, 0.4157, 0.2353, 0.3451, 0.1255, 0.0000, 0.0000, 0.0000, 0.0000,\n",
              "         0.0000, 0.0000, 0.0000, 0.0000, 0.0000, 0.0000, 0.0000, 0.0000, 0.0000,\n",
              "         0.0000, 0.0000, 0.0000, 0.0000, 0.0000, 0.0000, 0.0000, 0.0980, 0.1843,\n",
              "         0.2745, 0.7490, 0.4431, 0.0863, 0.0588, 0.0000, 0.0000, 0.0000, 0.0000,\n",
              "         0.0000, 0.0000, 0.0000, 0.0000, 0.0000, 0.0000, 0.0000, 0.0000, 0.0000,\n",
              "         0.0000, 0.0000, 0.0000, 0.0000, 0.0000, 0.0000, 0.0588, 0.0980, 0.2941,\n",
              "         0.6902, 0.8314, 0.4235, 0.4824, 0.1373, 0.0863, 0.0275, 0.0000, 0.0000,\n",
              "         0.0000, 0.0000, 0.0000, 0.0078, 0.0000, 0.0078, 0.0000, 0.0000, 0.0000,\n",
              "         0.0000, 0.0000, 0.0078, 0.0000, 0.0000, 0.0000, 0.0980, 0.2863, 0.5804,\n",
              "         0.8196, 0.1647, 0.0000, 0.0000, 0.1255, 0.4627, 0.0196, 0.0000, 0.0000,\n",
              "         0.0000, 0.0000, 0.0000, 0.0000, 0.0000, 0.0000, 0.0000, 0.0000, 0.0000,\n",
              "         0.0000, 0.0000, 0.0000, 0.0000, 0.0000, 0.0000, 0.0667, 0.3255, 0.6118,\n",
              "         0.5922, 0.0000, 0.0000, 0.0000, 0.0000, 0.0078, 0.6235, 0.1961, 0.0000,\n",
              "         0.0000, 0.0000, 0.0000, 0.0000, 0.0000, 0.0000, 0.0000, 0.0000, 0.0000,\n",
              "         0.0000, 0.0000, 0.0000, 0.0000, 0.0078, 0.0000, 0.0196, 0.3451, 0.6824,\n",
              "         0.4235, 0.0000, 0.0000, 0.0078, 0.0000, 0.0000, 0.0000, 0.8196, 0.2863,\n",
              "         0.0000, 0.0000, 0.0000, 0.0000, 0.0000, 0.0000, 0.1059, 0.0667, 0.4627,\n",
              "         0.2157, 0.0000, 0.0000, 0.0000, 0.0000, 0.0000, 0.0000, 0.1961, 0.6627,\n",
              "         0.4627, 0.0000, 0.0000, 0.0275, 0.0000, 0.0000, 0.0000, 0.0000, 0.6627,\n",
              "         0.3137, 0.0000, 0.0000, 0.0000, 0.0000, 0.0000, 0.0471, 0.2078, 0.0392,\n",
              "         0.3059, 0.6039, 0.0000, 0.0000, 0.0000, 0.0000, 0.0000, 0.0863, 0.8000,\n",
              "         0.5333, 0.0000, 0.0000, 0.0000, 0.0000, 0.0000, 0.0078, 0.0000, 0.0000,\n",
              "         0.6902, 0.4157, 0.0000, 0.0000, 0.0000, 0.0000, 0.0078, 0.0275, 0.0000,\n",
              "         0.0275, 0.0196, 0.6431, 0.0078, 0.0000, 0.0000, 0.0000, 0.2941, 0.5725,\n",
              "         0.7490, 0.0000, 0.0000, 0.0000, 0.0000, 0.0000, 0.0000, 0.0078, 0.0000,\n",
              "         0.0000, 0.7294, 0.4824, 0.0000, 0.1176, 0.2353, 0.0980, 0.1059, 0.2667,\n",
              "         0.3255, 0.1843, 0.2078, 0.3725, 0.1765, 0.0000, 0.0784, 0.4627, 0.6627,\n",
              "         0.6235, 0.0000, 0.0000, 0.0078, 0.0000, 0.0000, 0.0000, 0.0000, 0.0000,\n",
              "         0.0000, 0.0000, 0.6627, 0.3333, 0.0000, 0.1059, 0.4627, 0.5216, 0.4745,\n",
              "         0.3922, 0.5412, 0.2941, 0.3137, 0.2863, 0.4745, 0.5412, 0.5412, 0.6824,\n",
              "         0.6314, 0.0078, 0.0000, 0.0196, 0.0078, 0.0000, 0.0000, 0.0000, 0.0000,\n",
              "         0.0000, 0.0078, 0.0000, 0.6235, 0.5608, 0.0000, 0.0000, 0.0000, 0.0000,\n",
              "         0.0196, 0.1176, 0.2078, 0.1961, 0.3137, 0.2549, 0.4157, 0.5137, 0.1961,\n",
              "         0.2275, 0.0000, 0.0000, 0.0000, 0.0078, 0.0275, 0.0000, 0.0000, 0.0000,\n",
              "         0.0000, 0.0000, 0.0000, 0.0000, 0.5529, 0.5804, 0.0000, 0.0000, 0.0000,\n",
              "         0.0000, 0.0000, 0.0000, 0.0000, 0.0000, 0.0000, 0.0000, 0.0000, 0.0000,\n",
              "         0.0000, 0.0000, 0.0000, 0.0000, 0.0000, 0.0000, 0.0000, 0.0000, 0.0000,\n",
              "         0.0000, 0.0000, 0.0000, 0.0000, 0.0000, 0.0000, 0.0000, 0.0000, 0.0000,\n",
              "         0.0000, 0.0000, 0.0000, 0.0000, 0.0000, 0.0000, 0.0000, 0.0000, 0.0000,\n",
              "         0.0000, 0.0000, 0.0000, 0.0000, 0.0000, 0.0000, 0.0000, 0.0000, 0.0000,\n",
              "         0.0000, 0.0000, 0.0000, 0.0000, 0.0000, 0.0000, 0.0000, 0.0000, 0.0000,\n",
              "         0.0000, 0.0000, 0.0000, 0.0000, 0.0000, 0.0000, 0.0000, 0.0000, 0.0000,\n",
              "         0.0000, 0.0000, 0.0000, 0.0000, 0.0000, 0.0000, 0.0000, 0.0000, 0.0000,\n",
              "         0.0000, 0.0000, 0.0000, 0.0000, 0.0000, 0.0000, 0.0000, 0.0000, 0.0000,\n",
              "         0.0000]),\n",
              " tensor(5))"
            ]
          },
          "metadata": {},
          "execution_count": 40
        }
      ]
    },
    {
      "cell_type": "code",
      "source": [
        "testDataset = customDataset(X_test, y_test)"
      ],
      "metadata": {
        "id": "9IICz0AMKPtI"
      },
      "execution_count": 41,
      "outputs": []
    },
    {
      "cell_type": "code",
      "source": [
        "trainLoader = DataLoader(trainDataset, batch_size=32, shuffle=True)\n",
        "testLoader = DataLoader(testDataset, batch_size=32, shuffle=False)\n",
        "#we do not shuffle in testLoader as we do not want data to be shuffled"
      ],
      "metadata": {
        "id": "26XE4iK-KRpb"
      },
      "execution_count": 42,
      "outputs": []
    },
    {
      "cell_type": "code",
      "source": [
        "class myNN(nn.Module):\n",
        "  def __init__(self, num_features) -> None:\n",
        "     super().__init__()\n",
        "     self.model = nn.Sequential(\n",
        "         nn.Linear(num_features, 128),\n",
        "         nn.ReLU(),\n",
        "         nn.Linear(128, 64),\n",
        "         nn.ReLU(),\n",
        "         nn.Linear(64, 10)\n",
        "     )\n",
        "\n",
        "  def forward(self, x):\n",
        "    return self.model(x)"
      ],
      "metadata": {
        "id": "592fp7skK9QM"
      },
      "execution_count": 43,
      "outputs": []
    },
    {
      "cell_type": "code",
      "source": [
        "epochs = 100\n",
        "learning_rate = 0.1\n",
        "print(X_train.shape[1])"
      ],
      "metadata": {
        "colab": {
          "base_uri": "https://localhost:8080/"
        },
        "id": "-J17tESBMfAm",
        "outputId": "11e3c0fb-7689-448a-9fb1-bb15209b929c"
      },
      "execution_count": 44,
      "outputs": [
        {
          "output_type": "stream",
          "name": "stdout",
          "text": [
            "784\n"
          ]
        }
      ]
    },
    {
      "cell_type": "code",
      "source": [
        "# instantiate the model\n",
        "model = myNN(X_train.shape[1])\n",
        "model.to(device)\n",
        "# loss function\n",
        "criterion = nn.CrossEntropyLoss()\n",
        "\n",
        "# optimizer\n",
        "optimizer = optim.SGD(model.parameters(), lr= learning_rate)"
      ],
      "metadata": {
        "id": "Y8FzqhAJMo51"
      },
      "execution_count": 45,
      "outputs": []
    },
    {
      "cell_type": "code",
      "source": [
        "len(trainLoader)"
      ],
      "metadata": {
        "colab": {
          "base_uri": "https://localhost:8080/"
        },
        "id": "mHhKq_QqQX8e",
        "outputId": "3845d9d2-150b-4299-f5ad-883ad2e667b6"
      },
      "execution_count": 46,
      "outputs": [
        {
          "output_type": "execute_result",
          "data": {
            "text/plain": [
              "1500"
            ]
          },
          "metadata": {},
          "execution_count": 46
        }
      ]
    },
    {
      "cell_type": "code",
      "source": [
        "# training loop\n",
        "\n",
        "for epoch in range(epochs):\n",
        "\n",
        "  total_epoch_loss = 0\n",
        "\n",
        "  for batch_features, batch_labels in trainLoader:\n",
        "\n",
        "    # forward pass\n",
        "    batch_features, batch_labels = batch_features.to(device), batch_labels.to(device)\n",
        "    outputs = model(batch_features)\n",
        "\n",
        "    # calculate loss\n",
        "    loss = criterion(outputs, batch_labels)\n",
        "\n",
        "    # back pass\n",
        "    optimizer.zero_grad()\n",
        "    loss.backward()\n",
        "\n",
        "    # update grads\n",
        "    optimizer.step()\n",
        "\n",
        "    total_epoch_loss = total_epoch_loss + loss.item()\n",
        "\n",
        "  avg_loss = total_epoch_loss/len(trainLoader)\n",
        "  print(f'Epoch: {epoch + 1} , Loss: {avg_loss}')\n"
      ],
      "metadata": {
        "colab": {
          "base_uri": "https://localhost:8080/"
        },
        "id": "a7bNHpIrNv9U",
        "outputId": "d5e2778b-235a-496e-c843-d7673c7f22cc"
      },
      "execution_count": 47,
      "outputs": [
        {
          "output_type": "stream",
          "name": "stdout",
          "text": [
            "Epoch: 1 , Loss: 0.6352872455318769\n",
            "Epoch: 2 , Loss: 0.4304986933817466\n",
            "Epoch: 3 , Loss: 0.38612620331346986\n",
            "Epoch: 4 , Loss: 0.3584607186516126\n",
            "Epoch: 5 , Loss: 0.3376494685560465\n",
            "Epoch: 6 , Loss: 0.3227646785800656\n",
            "Epoch: 7 , Loss: 0.30785389595727125\n",
            "Epoch: 8 , Loss: 0.29498188248028356\n",
            "Epoch: 9 , Loss: 0.2854692431092262\n",
            "Epoch: 10 , Loss: 0.27467057487616936\n",
            "Epoch: 11 , Loss: 0.26830568559716145\n",
            "Epoch: 12 , Loss: 0.25814215187107525\n",
            "Epoch: 13 , Loss: 0.24940819021190205\n",
            "Epoch: 14 , Loss: 0.24444738084822892\n",
            "Epoch: 15 , Loss: 0.23859191479658087\n",
            "Epoch: 16 , Loss: 0.23155898495018482\n",
            "Epoch: 17 , Loss: 0.22562562109405795\n",
            "Epoch: 18 , Loss: 0.220296459933122\n",
            "Epoch: 19 , Loss: 0.21206333881616593\n",
            "Epoch: 20 , Loss: 0.20960091057543953\n",
            "Epoch: 21 , Loss: 0.20624992236122489\n",
            "Epoch: 22 , Loss: 0.19986102367161462\n",
            "Epoch: 23 , Loss: 0.19530413204431535\n",
            "Epoch: 24 , Loss: 0.19312162966746838\n",
            "Epoch: 25 , Loss: 0.18764106344679993\n",
            "Epoch: 26 , Loss: 0.1836644180783381\n",
            "Epoch: 27 , Loss: 0.1801829884586235\n",
            "Epoch: 28 , Loss: 0.1732649680164953\n",
            "Epoch: 29 , Loss: 0.17048048644885422\n",
            "Epoch: 30 , Loss: 0.1704416691598793\n",
            "Epoch: 31 , Loss: 0.1669696749355644\n",
            "Epoch: 32 , Loss: 0.16373400872449081\n",
            "Epoch: 33 , Loss: 0.16233399505944301\n",
            "Epoch: 34 , Loss: 0.15723733726826808\n",
            "Epoch: 35 , Loss: 0.15447346428254\n",
            "Epoch: 36 , Loss: 0.1545576546518132\n",
            "Epoch: 37 , Loss: 0.14620412410050632\n",
            "Epoch: 38 , Loss: 0.14241028870362787\n",
            "Epoch: 39 , Loss: 0.14137836676385876\n",
            "Epoch: 40 , Loss: 0.1423039033394307\n",
            "Epoch: 41 , Loss: 0.1375529004293494\n",
            "Epoch: 42 , Loss: 0.13899335852917283\n",
            "Epoch: 43 , Loss: 0.13538831498442838\n",
            "Epoch: 44 , Loss: 0.1287984882996728\n",
            "Epoch: 45 , Loss: 0.12960014000659187\n",
            "Epoch: 46 , Loss: 0.12750795842163887\n",
            "Epoch: 47 , Loss: 0.12409021653390179\n",
            "Epoch: 48 , Loss: 0.12071532321178044\n",
            "Epoch: 49 , Loss: 0.11564283333004763\n",
            "Epoch: 50 , Loss: 0.11969620903915104\n",
            "Epoch: 51 , Loss: 0.11240664103456463\n",
            "Epoch: 52 , Loss: 0.11313746599317528\n",
            "Epoch: 53 , Loss: 0.11436900947755203\n",
            "Epoch: 54 , Loss: 0.11118536476511508\n",
            "Epoch: 55 , Loss: 0.1151556797324059\n",
            "Epoch: 56 , Loss: 0.10828998744379108\n",
            "Epoch: 57 , Loss: 0.10759262777973587\n",
            "Epoch: 58 , Loss: 0.10664007855408515\n",
            "Epoch: 59 , Loss: 0.10350715170230251\n",
            "Epoch: 60 , Loss: 0.09918549502578874\n",
            "Epoch: 61 , Loss: 0.09934679207073835\n",
            "Epoch: 62 , Loss: 0.0993961365839156\n",
            "Epoch: 63 , Loss: 0.09597745557703699\n",
            "Epoch: 64 , Loss: 0.09528340040857439\n",
            "Epoch: 65 , Loss: 0.09809105654499338\n",
            "Epoch: 66 , Loss: 0.09813115014034944\n",
            "Epoch: 67 , Loss: 0.09015605362077865\n",
            "Epoch: 68 , Loss: 0.09044385887787211\n",
            "Epoch: 69 , Loss: 0.08992214041020877\n",
            "Epoch: 70 , Loss: 0.0894195347436859\n",
            "Epoch: 71 , Loss: 0.0901607719749057\n",
            "Epoch: 72 , Loss: 0.08494903467145438\n",
            "Epoch: 73 , Loss: 0.08435975614225026\n",
            "Epoch: 74 , Loss: 0.08038173073634972\n",
            "Epoch: 75 , Loss: 0.07998347281183427\n",
            "Epoch: 76 , Loss: 0.07927920010786814\n",
            "Epoch: 77 , Loss: 0.08367198768362868\n",
            "Epoch: 78 , Loss: 0.08010334276167365\n",
            "Epoch: 79 , Loss: 0.07839310948318841\n",
            "Epoch: 80 , Loss: 0.07731449945651306\n",
            "Epoch: 81 , Loss: 0.0725119466939359\n",
            "Epoch: 82 , Loss: 0.07715899436779243\n",
            "Epoch: 83 , Loss: 0.07848059432738227\n",
            "Epoch: 84 , Loss: 0.06879183093741692\n",
            "Epoch: 85 , Loss: 0.08118748380765707\n",
            "Epoch: 86 , Loss: 0.07770356753194937\n",
            "Epoch: 87 , Loss: 0.06794948129361728\n",
            "Epoch: 88 , Loss: 0.06668691740721502\n",
            "Epoch: 89 , Loss: 0.06795124354235305\n",
            "Epoch: 90 , Loss: 0.07117577052312844\n",
            "Epoch: 91 , Loss: 0.06771438679029719\n",
            "Epoch: 92 , Loss: 0.06959606989556535\n",
            "Epoch: 93 , Loss: 0.06168472910565712\n",
            "Epoch: 94 , Loss: 0.06411504278382442\n",
            "Epoch: 95 , Loss: 0.06060305817479578\n",
            "Epoch: 96 , Loss: 0.05729881219780267\n",
            "Epoch: 97 , Loss: 0.058360233872032645\n",
            "Epoch: 98 , Loss: 0.06350834116928429\n",
            "Epoch: 99 , Loss: 0.05521324163050546\n",
            "Epoch: 100 , Loss: 0.06209626051294617\n"
          ]
        }
      ]
    },
    {
      "cell_type": "code",
      "source": [
        "model.eval()"
      ],
      "metadata": {
        "colab": {
          "base_uri": "https://localhost:8080/"
        },
        "id": "NcfTlTY8O6jI",
        "outputId": "80b16795-f73b-4f19-f35e-d9f1474a7b30"
      },
      "execution_count": 48,
      "outputs": [
        {
          "output_type": "execute_result",
          "data": {
            "text/plain": [
              "myNN(\n",
              "  (model): Sequential(\n",
              "    (0): Linear(in_features=784, out_features=128, bias=True)\n",
              "    (1): ReLU()\n",
              "    (2): Linear(in_features=128, out_features=64, bias=True)\n",
              "    (3): ReLU()\n",
              "    (4): Linear(in_features=64, out_features=10, bias=True)\n",
              "  )\n",
              ")"
            ]
          },
          "metadata": {},
          "execution_count": 48
        }
      ]
    },
    {
      "cell_type": "code",
      "source": [
        "total = 0\n",
        "correct = 0\n",
        "\n",
        "with torch.no_grad():\n",
        "  for batch_features, batch_labels in testLoader:\n",
        "    batch_features, batch_labels = batch_features.to(device), batch_labels.to(device)\n",
        "    outputs = model(batch_features).to('cuda')\n",
        "    _, predicted = torch.max(outputs.data, 1)\n",
        "    total += batch_labels.size(0)\n",
        "    correct += (predicted == batch_labels).sum().item()\n",
        "\n",
        "accuracy = 100 * correct / total\n",
        "print(f'Accuracy: {accuracy}')"
      ],
      "metadata": {
        "colab": {
          "base_uri": "https://localhost:8080/"
        },
        "id": "8PLaXeglSAbG",
        "outputId": "cd4536e5-afe6-4e2a-99ca-245aa457ec70"
      },
      "execution_count": 50,
      "outputs": [
        {
          "output_type": "stream",
          "name": "stdout",
          "text": [
            "Accuracy: 88.98333333333333\n"
          ]
        }
      ]
    },
    {
      "cell_type": "markdown",
      "metadata": {
        "id": "4f2fa391"
      },
      "source": [
        "# Fashion MNIST Classification with PyTorch\n",
        "\n",
        "This notebook demonstrates a simple image classification task using the Fashion MNIST dataset and a basic neural network implemented with PyTorch.\n",
        "\n",
        "## Project Description\n",
        "\n",
        "The goal of this project is to build and train a neural network to classify images of clothing items from the Fashion MNIST dataset. The dataset consists of 60,000 training images and 10,000 test images, each being a 28x28 grayscale image, associated with a label from 10 classes (e.g., T-shirt/top, trousers, pullover, dress, coat, sandal, shirt, sneaker, bag, ankle boot).\n",
        "\n",
        "The notebook covers the following steps:\n",
        "\n",
        "1.  **Data Loading and Exploration**: Loading the Fashion MNIST dataset from a CSV file and visualizing some sample images.\n",
        "2.  **Data Preprocessing**: Splitting the data into training and testing sets and normalizing the pixel values.\n",
        "3.  **Custom Dataset and DataLoader**: Creating a custom PyTorch Dataset and DataLoader for efficient data handling during training.\n",
        "4.  **Model Definition**: Defining a simple feedforward neural network using PyTorch's `nn.Module`.\n",
        "5.  **Training**: Training the neural network using stochastic gradient descent and Cross-Entropy Loss.\n",
        "6.  **Evaluation**: Evaluating the trained model's accuracy on the test set.\n",
        "\n",
        "## Setup and Requirements\n",
        "\n",
        "To run this notebook, you will need to have the following libraries installed:\n",
        "\n",
        "-   pandas\n",
        "-   numpy\n",
        "-   scikit-learn\n",
        "-   torch\n",
        "-   matplotlib\n",
        "\n",
        "You can install these libraries using pip:"
      ]
    }
  ]
}